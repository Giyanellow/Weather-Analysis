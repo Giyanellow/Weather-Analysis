{
 "cells": [
  {
   "cell_type": "code",
   "execution_count": 83,
   "metadata": {},
   "outputs": [],
   "source": [
    "import pandas as pd\n",
    "import numpy as np\n",
    "import time\n",
    "import os"
   ]
  },
  {
   "cell_type": "code",
   "execution_count": 84,
   "metadata": {},
   "outputs": [
    {
     "data": {
      "text/plain": [
       "date               object\n",
       "high               object\n",
       "low                object\n",
       "precipitation      object\n",
       "condition          object\n",
       "real feel          object\n",
       "real feel shade    object\n",
       "max uv index       object\n",
       "wind               object\n",
       "dtype: object"
      ]
     },
     "execution_count": 84,
     "metadata": {},
     "output_type": "execute_result"
    }
   ],
   "source": [
    "weather_df = pd.read_csv('weather_data.csv')\n",
    "cleaned_weather_df = weather_df\n",
    "weather_df.shape\n",
    "weather_df.dtypes"
   ]
  },
  {
   "cell_type": "markdown",
   "metadata": {},
   "source": [
    "Data needs to be formatted properly since there's a mix of data types for each col. Thus, 'object' for each col."
   ]
  },
  {
   "cell_type": "code",
   "execution_count": 85,
   "metadata": {},
   "outputs": [
    {
     "data": {
      "text/plain": [
       "date               0\n",
       "high               0\n",
       "low                0\n",
       "precipitation      0\n",
       "condition          0\n",
       "real feel          0\n",
       "real feel shade    0\n",
       "max uv index       0\n",
       "wind               0\n",
       "dtype: int64"
      ]
     },
     "execution_count": 85,
     "metadata": {},
     "output_type": "execute_result"
    }
   ],
   "source": [
    "# Check for null values\n",
    "weather_df.isnull().sum()"
   ]
  },
  {
   "cell_type": "code",
   "execution_count": 86,
   "metadata": {},
   "outputs": [
    {
     "name": "stdout",
     "output_type": "stream",
     "text": [
      "date               object\n",
      "high                int64\n",
      "low                 int64\n",
      "precipitation      object\n",
      "condition          object\n",
      "real feel          object\n",
      "real feel shade    object\n",
      "max uv index       object\n",
      "wind               object\n",
      "dtype: object\n"
     ]
    },
    {
     "data": {
      "text/html": [
       "<div>\n",
       "<style scoped>\n",
       "    .dataframe tbody tr th:only-of-type {\n",
       "        vertical-align: middle;\n",
       "    }\n",
       "\n",
       "    .dataframe tbody tr th {\n",
       "        vertical-align: top;\n",
       "    }\n",
       "\n",
       "    .dataframe thead th {\n",
       "        text-align: right;\n",
       "    }\n",
       "</style>\n",
       "<table border=\"1\" class=\"dataframe\">\n",
       "  <thead>\n",
       "    <tr style=\"text-align: right;\">\n",
       "      <th></th>\n",
       "      <th>date</th>\n",
       "      <th>high</th>\n",
       "      <th>low</th>\n",
       "      <th>precipitation</th>\n",
       "      <th>condition</th>\n",
       "      <th>real feel</th>\n",
       "      <th>real feel shade</th>\n",
       "      <th>max uv index</th>\n",
       "      <th>wind</th>\n",
       "    </tr>\n",
       "  </thead>\n",
       "  <tbody>\n",
       "    <tr>\n",
       "      <th>0</th>\n",
       "      <td>7/24</td>\n",
       "      <td>21</td>\n",
       "      <td>19</td>\n",
       "      <td>100%</td>\n",
       "      <td>Cloudy with showers and thunderstorms, some he...</td>\n",
       "      <td>24°</td>\n",
       "      <td>21°</td>\n",
       "      <td>4 Moderate</td>\n",
       "      <td>WSW 11 km/h</td>\n",
       "    </tr>\n",
       "    <tr>\n",
       "      <th>1</th>\n",
       "      <td>7/25</td>\n",
       "      <td>21</td>\n",
       "      <td>19</td>\n",
       "      <td>100%</td>\n",
       "      <td>Cloudy with showers and thunderstorms</td>\n",
       "      <td>24°</td>\n",
       "      <td>21°</td>\n",
       "      <td>4 Moderate</td>\n",
       "      <td>WSW 11 km/h</td>\n",
       "    </tr>\n",
       "    <tr>\n",
       "      <th>2</th>\n",
       "      <td>7/26</td>\n",
       "      <td>23</td>\n",
       "      <td>19</td>\n",
       "      <td>96%</td>\n",
       "      <td>A thick cloud cover with a couple of showers a...</td>\n",
       "      <td>28°</td>\n",
       "      <td>24°</td>\n",
       "      <td>5 Moderate</td>\n",
       "      <td>SW 9 km/h</td>\n",
       "    </tr>\n",
       "    <tr>\n",
       "      <th>3</th>\n",
       "      <td>7/27</td>\n",
       "      <td>23</td>\n",
       "      <td>19</td>\n",
       "      <td>97%</td>\n",
       "      <td>Considerable cloudiness and humid with a coupl...</td>\n",
       "      <td>28°</td>\n",
       "      <td>24°</td>\n",
       "      <td>4 Moderate</td>\n",
       "      <td>WSW 7 km/h</td>\n",
       "    </tr>\n",
       "    <tr>\n",
       "      <th>4</th>\n",
       "      <td>7/28</td>\n",
       "      <td>20</td>\n",
       "      <td>19</td>\n",
       "      <td>95%</td>\n",
       "      <td>Thunderstorms, some can be heavy late; cloudy</td>\n",
       "      <td>24°</td>\n",
       "      <td>22°</td>\n",
       "      <td>4 Moderate</td>\n",
       "      <td>SW 6 km/h</td>\n",
       "    </tr>\n",
       "  </tbody>\n",
       "</table>\n",
       "</div>"
      ],
      "text/plain": [
       "   date  high  low  ... real feel shade max uv index         wind\n",
       "0  7/24    21   19  ...             21°   4 Moderate  WSW 11 km/h\n",
       "1  7/25    21   19  ...             21°   4 Moderate  WSW 11 km/h\n",
       "2  7/26    23   19  ...             24°   5 Moderate    SW 9 km/h\n",
       "3  7/27    23   19  ...             24°   4 Moderate   WSW 7 km/h\n",
       "4  7/28    20   19  ...             22°   4 Moderate    SW 6 km/h\n",
       "\n",
       "[5 rows x 9 columns]"
      ]
     },
     "execution_count": 86,
     "metadata": {},
     "output_type": "execute_result"
    }
   ],
   "source": [
    "# Clean and convert columns to appropriate data types\n",
    "cleaned_weather_df['high'] = cleaned_weather_df['high'].str.replace(r'[^\\d]', '', regex=True)\n",
    "cleaned_weather_df['low'] = cleaned_weather_df['low'].str.replace(r'[^\\d]', '', regex=True)\n",
    "\n",
    "cleaned_weather_df['high'] = pd.to_numeric(cleaned_weather_df['high'])\n",
    "cleaned_weather_df['low'] = pd.to_numeric(cleaned_weather_df['low'])\n",
    "\n",
    "cleaned_weather_df['real feel'] = cleaned_weather_df['real feel'].str.replace(r'[^\\d]', '', regex=True)\n",
    "cleaned_weather_df['low feel'] = cleaned_weather_df['low feel'].str.replace(r'[^\\d]', '', regex=True)\n",
    "\n",
    "cleaned_weather_df['real feel'] = pd.to_numeric(cleaned_weather_df['real feel'])\n",
    "cleaned_weather_df['low feel'] = pd.to_numeric(cleaned_weather_df['low feel'])\n",
    "\n",
    "# Check the data types again\n",
    "print(cleaned_weather_df.dtypes)\n",
    "cleaned_weather_df.head()"
   ]
  },
  {
   "cell_type": "markdown",
   "metadata": {},
   "source": [
    "### Clean Date format"
   ]
  },
  {
   "cell_type": "code",
   "execution_count": 90,
   "metadata": {},
   "outputs": [
    {
     "data": {
      "text/html": [
       "<div>\n",
       "<style scoped>\n",
       "    .dataframe tbody tr th:only-of-type {\n",
       "        vertical-align: middle;\n",
       "    }\n",
       "\n",
       "    .dataframe tbody tr th {\n",
       "        vertical-align: top;\n",
       "    }\n",
       "\n",
       "    .dataframe thead th {\n",
       "        text-align: right;\n",
       "    }\n",
       "</style>\n",
       "<table border=\"1\" class=\"dataframe\">\n",
       "  <thead>\n",
       "    <tr style=\"text-align: right;\">\n",
       "      <th></th>\n",
       "      <th>date</th>\n",
       "      <th>high</th>\n",
       "      <th>low</th>\n",
       "      <th>precipitation</th>\n",
       "      <th>condition</th>\n",
       "      <th>real feel</th>\n",
       "      <th>real feel shade</th>\n",
       "      <th>max uv index</th>\n",
       "      <th>wind</th>\n",
       "    </tr>\n",
       "  </thead>\n",
       "  <tbody>\n",
       "    <tr>\n",
       "      <th>0</th>\n",
       "      <td>2024-07-24</td>\n",
       "      <td>21</td>\n",
       "      <td>19</td>\n",
       "      <td>100%</td>\n",
       "      <td>Cloudy with showers and thunderstorms, some he...</td>\n",
       "      <td>24°</td>\n",
       "      <td>21°</td>\n",
       "      <td>4 Moderate</td>\n",
       "      <td>WSW 11 km/h</td>\n",
       "    </tr>\n",
       "    <tr>\n",
       "      <th>1</th>\n",
       "      <td>2024-07-25</td>\n",
       "      <td>21</td>\n",
       "      <td>19</td>\n",
       "      <td>100%</td>\n",
       "      <td>Cloudy with showers and thunderstorms</td>\n",
       "      <td>24°</td>\n",
       "      <td>21°</td>\n",
       "      <td>4 Moderate</td>\n",
       "      <td>WSW 11 km/h</td>\n",
       "    </tr>\n",
       "    <tr>\n",
       "      <th>2</th>\n",
       "      <td>2024-07-26</td>\n",
       "      <td>23</td>\n",
       "      <td>19</td>\n",
       "      <td>96%</td>\n",
       "      <td>A thick cloud cover with a couple of showers a...</td>\n",
       "      <td>28°</td>\n",
       "      <td>24°</td>\n",
       "      <td>5 Moderate</td>\n",
       "      <td>SW 9 km/h</td>\n",
       "    </tr>\n",
       "    <tr>\n",
       "      <th>3</th>\n",
       "      <td>2024-07-27</td>\n",
       "      <td>23</td>\n",
       "      <td>19</td>\n",
       "      <td>97%</td>\n",
       "      <td>Considerable cloudiness and humid with a coupl...</td>\n",
       "      <td>28°</td>\n",
       "      <td>24°</td>\n",
       "      <td>4 Moderate</td>\n",
       "      <td>WSW 7 km/h</td>\n",
       "    </tr>\n",
       "    <tr>\n",
       "      <th>4</th>\n",
       "      <td>2024-07-28</td>\n",
       "      <td>20</td>\n",
       "      <td>19</td>\n",
       "      <td>95%</td>\n",
       "      <td>Thunderstorms, some can be heavy late; cloudy</td>\n",
       "      <td>24°</td>\n",
       "      <td>22°</td>\n",
       "      <td>4 Moderate</td>\n",
       "      <td>SW 6 km/h</td>\n",
       "    </tr>\n",
       "  </tbody>\n",
       "</table>\n",
       "</div>"
      ],
      "text/plain": [
       "        date  high  low  ... real feel shade max uv index         wind\n",
       "0 2024-07-24    21   19  ...             21°   4 Moderate  WSW 11 km/h\n",
       "1 2024-07-25    21   19  ...             21°   4 Moderate  WSW 11 km/h\n",
       "2 2024-07-26    23   19  ...             24°   5 Moderate    SW 9 km/h\n",
       "3 2024-07-27    23   19  ...             24°   4 Moderate   WSW 7 km/h\n",
       "4 2024-07-28    20   19  ...             22°   4 Moderate    SW 6 km/h\n",
       "\n",
       "[5 rows x 9 columns]"
      ]
     },
     "execution_count": 90,
     "metadata": {},
     "output_type": "execute_result"
    }
   ],
   "source": [
    "# Convert to datetime with the correct format\n",
    "cleaned_weather_df['date'] = pd.to_datetime(cleaned_weather_df['date'], format='%m/%d')\n",
    "\n",
    "year = time.strftime('%Y')\n",
    "\n",
    "# Add the year to the date\n",
    "cleaned_weather_df['date'] = cleaned_weather_df['date'].apply(lambda x: x.replace(year=int(year)))\n",
    "\n",
    "cleaned_weather_df.head()"
   ]
  },
  {
   "cell_type": "markdown",
   "metadata": {},
   "source": [
    "### Clean tempt. format"
   ]
  },
  {
   "cell_type": "code",
   "execution_count": 89,
   "metadata": {},
   "outputs": [
    {
     "ename": "AttributeError",
     "evalue": "'Series' object has no attribute 'strip'",
     "output_type": "error",
     "traceback": [
      "\u001b[1;31m---------------------------------------------------------------------------\u001b[0m",
      "\u001b[1;31mAttributeError\u001b[0m                            Traceback (most recent call last)",
      "\u001b[1;32m~\\AppData\\Local\\Temp\\ipykernel_22960\\868196168.py\u001b[0m in \u001b[0;36m?\u001b[1;34m()\u001b[0m\n\u001b[0;32m      1\u001b[0m \u001b[0mtempts\u001b[0m \u001b[1;33m=\u001b[0m \u001b[1;33m[\u001b[0m\u001b[1;34m'high'\u001b[0m\u001b[1;33m,\u001b[0m \u001b[1;34m'low'\u001b[0m\u001b[1;33m]\u001b[0m\u001b[1;33m\u001b[0m\u001b[1;33m\u001b[0m\u001b[0m\n\u001b[0;32m      2\u001b[0m \u001b[1;33m\u001b[0m\u001b[0m\n\u001b[0;32m      3\u001b[0m \u001b[1;32mfor\u001b[0m \u001b[0mtemp\u001b[0m \u001b[1;32min\u001b[0m \u001b[0mtempts\u001b[0m\u001b[1;33m:\u001b[0m\u001b[1;33m\u001b[0m\u001b[1;33m\u001b[0m\u001b[0m\n\u001b[1;32m----> 4\u001b[1;33m     \u001b[0mweather_df\u001b[0m\u001b[1;33m[\u001b[0m\u001b[0mtemp\u001b[0m\u001b[1;33m]\u001b[0m \u001b[1;33m=\u001b[0m \u001b[0mweather_df\u001b[0m\u001b[1;33m[\u001b[0m\u001b[0mtemp\u001b[0m\u001b[1;33m]\u001b[0m\u001b[1;33m.\u001b[0m\u001b[0mstrip\u001b[0m\u001b[1;33m(\u001b[0m\u001b[1;34m'/'\u001b[0m\u001b[1;33m)\u001b[0m\u001b[1;33m.\u001b[0m\u001b[0mstrip\u001b[0m\u001b[1;33m(\u001b[0m\u001b[1;34m'°'\u001b[0m\u001b[1;33m)\u001b[0m\u001b[1;33m.\u001b[0m\u001b[0mastype\u001b[0m\u001b[1;33m(\u001b[0m\u001b[0mint\u001b[0m\u001b[1;33m)\u001b[0m\u001b[1;33m\u001b[0m\u001b[1;33m\u001b[0m\u001b[0m\n\u001b[0m",
      "\u001b[1;32mg:\\Dev Portfolio\\Weather Analysis\\weather-env\\Lib\\site-packages\\pandas\\core\\generic.py\u001b[0m in \u001b[0;36m?\u001b[1;34m(self, name)\u001b[0m\n\u001b[0;32m   6295\u001b[0m             \u001b[1;32mand\u001b[0m \u001b[0mname\u001b[0m \u001b[1;32mnot\u001b[0m \u001b[1;32min\u001b[0m \u001b[0mself\u001b[0m\u001b[1;33m.\u001b[0m\u001b[0m_accessors\u001b[0m\u001b[1;33m\u001b[0m\u001b[1;33m\u001b[0m\u001b[0m\n\u001b[0;32m   6296\u001b[0m             \u001b[1;32mand\u001b[0m \u001b[0mself\u001b[0m\u001b[1;33m.\u001b[0m\u001b[0m_info_axis\u001b[0m\u001b[1;33m.\u001b[0m\u001b[0m_can_hold_identifiers_and_holds_name\u001b[0m\u001b[1;33m(\u001b[0m\u001b[0mname\u001b[0m\u001b[1;33m)\u001b[0m\u001b[1;33m\u001b[0m\u001b[1;33m\u001b[0m\u001b[0m\n\u001b[0;32m   6297\u001b[0m         ):\n\u001b[0;32m   6298\u001b[0m             \u001b[1;32mreturn\u001b[0m \u001b[0mself\u001b[0m\u001b[1;33m[\u001b[0m\u001b[0mname\u001b[0m\u001b[1;33m]\u001b[0m\u001b[1;33m\u001b[0m\u001b[1;33m\u001b[0m\u001b[0m\n\u001b[1;32m-> 6299\u001b[1;33m         \u001b[1;32mreturn\u001b[0m \u001b[0mobject\u001b[0m\u001b[1;33m.\u001b[0m\u001b[0m__getattribute__\u001b[0m\u001b[1;33m(\u001b[0m\u001b[0mself\u001b[0m\u001b[1;33m,\u001b[0m \u001b[0mname\u001b[0m\u001b[1;33m)\u001b[0m\u001b[1;33m\u001b[0m\u001b[1;33m\u001b[0m\u001b[0m\n\u001b[0m",
      "\u001b[1;31mAttributeError\u001b[0m: 'Series' object has no attribute 'strip'"
     ]
    }
   ],
   "source": [
    "tempts = ['high', 'low']\n",
    "\n",
    "for temp in tempts:\n",
    "    weather_df[temp] = weather_df[temp].strip('/').strip('°').astype(int)"
   ]
  }
 ],
 "metadata": {
  "kernelspec": {
   "display_name": "weather-env",
   "language": "python",
   "name": "python3"
  },
  "language_info": {
   "codemirror_mode": {
    "name": "ipython",
    "version": 3
   },
   "file_extension": ".py",
   "mimetype": "text/x-python",
   "name": "python",
   "nbconvert_exporter": "python",
   "pygments_lexer": "ipython3",
   "version": "3.11.6"
  }
 },
 "nbformat": 4,
 "nbformat_minor": 2
}
